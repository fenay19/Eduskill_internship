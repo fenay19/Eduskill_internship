{
  "nbformat": 4,
  "nbformat_minor": 0,
  "metadata": {
    "colab": {
      "provenance": []
    },
    "kernelspec": {
      "name": "python3",
      "display_name": "Python 3"
    },
    "language_info": {
      "name": "python"
    }
  },
  "cells": [
    {
      "cell_type": "code",
      "source": [
        "import requests\n",
        "import json\n",
        "\n",
        "# 🔐 IBM Cloud API Key\n",
        "API_KEY = \"gWxcOY3_O-5aDpBo1MmdJdUwAl_V_8brYkXy_hAMqru7\"\n",
        "\n",
        "# 🔄 Get IAM token\n",
        "token_response = requests.post(\n",
        "    'https://iam.cloud.ibm.com/identity/token',\n",
        "    data={\"apikey\": API_KEY, \"grant_type\": 'urn:ibm:params:oauth:grant-type:apikey'}\n",
        ")\n",
        "mltoken = token_response.json()[\"access_token\"]\n",
        "\n",
        "# 🌐 Scoring endpoint\n",
        "url = \"https://au-syd.ml.cloud.ibm.com/ml/v4/deployments/acd8e673-34ef-4fa9-bfb4-21e6283bb7f7/predictions?version=2021-05-01\"\n",
        "\n",
        "# 📥 Payload (Your input data)\n",
        "payload_scoring = {\n",
        "    \"input_data\": [\n",
        "        {\n",
        "            \"fields\": [\n",
        "                \"AreaID\", \"AreaName\", \"TimePeriod\", \"Source\", \"Sector\", \"Subsector\", \"Goal\",\n",
        "                \"Indicator\", \"Unit\", \"SubgroupDimension\", \"Subgroup\", \"SubgroupOrder\", \"DataValue\", \"Footnote\"\n",
        "            ],\n",
        "            \"values\": [\n",
        "                [\n",
        "                    \"IND\", \"India\", \"2015-16\", \"Ministry of Women and Child Development\", \"No Poverty\",\n",
        "                    \"Health Care\", \"1: End poverty in all its forms everywhere\",\n",
        "                    \"1.3.2: Number of beneficiaries under Integrated Child Development Scheme - ICDS\",\n",
        "                    \"Number\", \"Beneficiary type\", \"Total Beneficiaries (Children 6 month-6 years plus P&LM)\",\n",
        "                    1, \"102131284\", \"NA\"\n",
        "                ],\n",
        "                [\n",
        "                    \"IND\", \"India\", \"2017-18\", \"Ministry of Women and Child Development\", \"No Poverty\",\n",
        "                    \"Health Care\", \"1: End poverty in all its forms everywhere\",\n",
        "                    \"1.3.2: Number of beneficiaries under Integrated Child Development Scheme - ICDS\",\n",
        "                    \"Number\", \"Beneficiary type\", \"Total Beneficiaries (Children 6 month-6 years plus P&LM)\",\n",
        "                    1, \"89276933\", \"NA\"\n",
        "                ],\n",
        "                [\n",
        "                    \"IND\", \"India\", \"2018-19\", \"Ministry of Women and Child Development\", \"No Poverty\",\n",
        "                    \"Health Care\", \"1: End poverty in all its forms everywhere\",\n",
        "                    \"1.3.2: Number of beneficiaries under Integrated Child Development Scheme - ICDS\",\n",
        "                    \"Number\", \"Beneficiary type\", \"Total Beneficiaries (Children 6 month-6 years plus P&LM)\",\n",
        "                    1, \"87560671\", \"NA\"\n",
        "                ]\n",
        "            ]\n",
        "        }\n",
        "    ]\n",
        "}\n",
        "\n",
        "# 🔄 Send request\n",
        "response_scoring = requests.post(\n",
        "    url,\n",
        "    json=payload_scoring,\n",
        "    headers={'Authorization': 'Bearer ' + mltoken}\n",
        ")\n",
        "\n",
        "# ✅ Nicely format the output\n",
        "print(\"\\n🎯 Scoring Response:\")\n",
        "try:\n",
        "    response = response_scoring.json()\n",
        "    predictions = response.get(\"predictions\", [{}])[0]\n",
        "    fields = predictions.get(\"fields\", [])\n",
        "    values = predictions.get(\"values\", [])\n",
        "\n",
        "    for i, row in enumerate(values):\n",
        "        print(f\"\\n📌 Prediction for Record {i+1}:\")\n",
        "        for field, value in zip(fields, row):\n",
        "            print(f\"  - {field}: {value}\")\n",
        "except ValueError:\n",
        "    print(\"Invalid JSON response:\\n\", response_scoring.text)\n",
        "except Exception as e:\n",
        "    print(f\"❌ Error occurred: {e}\")\n"
      ],
      "metadata": {
        "colab": {
          "base_uri": "https://localhost:8080/"
        },
        "id": "yhrG3qJIMZR1",
        "outputId": "e4286a3c-0f9a-4d31-a468-20dba3f0377d"
      },
      "execution_count": 6,
      "outputs": [
        {
          "output_type": "stream",
          "name": "stdout",
          "text": [
            "\n",
            "🎯 Scoring Response:\n",
            "\n",
            "📌 Prediction for Record 1:\n",
            "  - prediction: 1.3: Implement nationally appropriate social protection systems and measures for all, including floors, and by 2030 achieve substantial coverage of the poor and the vulnerable\n",
            "  - probability: [0.0, 1.0, 0.0, 0.0, 0.0, 0.0, 0.0, 0.0, 0.0, 0.0, 0.0, 0.0, 0.0, 0.0, 0.0, 0.0, 0.0, 0.0, 0.0, 0.0, 0.0, 0.0, 0.0, 0.0, 0.0, 0.0, 0.0, 0.0, 0.0, 0.0, 0.0, 0.0, 0.0, 0.0, 0.0, 0.0, 0.0, 0.0, 0.0, 0.0, 0.0, 0.0, 0.0, 0.0, 0.0, 0.0, 0.0, 0.0, 0.0, 0.0, 0.0, 0.0, 0.0, 0.0, 0.0, 0.0, 0.0, 0.0, 0.0, 0.0, 0.0, 0.0, 0.0, 0.0, 0.0, 0.0, 0.0, 0.0, 0.0, 0.0, 0.0, 0.0, 0.0, 0.0, 0.0, 0.0, 0.0, 0.0, 0.0, 0.0, 0.0, 0.0, 0.0, 0.0, 0.0, 0.0, 0.0, 0.0, 0.0, 0.0, 0.0, 0.0, 0.0, 0.0, 0.0, 0.0, 0.0, 0.0, 0.0, 0.0, 0.0, 0.0, 0.0, 0.0, 0.0, 0.0, 0.0, 0.0, 0.0, 0.0, 0.0, 0.0, 0.0, 0.0, 0.0, 0.0, 0.0, 0.0]\n",
            "\n",
            "📌 Prediction for Record 2:\n",
            "  - prediction: 1.3: Implement nationally appropriate social protection systems and measures for all, including floors, and by 2030 achieve substantial coverage of the poor and the vulnerable\n",
            "  - probability: [0.0, 1.0, 0.0, 0.0, 0.0, 0.0, 0.0, 0.0, 0.0, 0.0, 0.0, 0.0, 0.0, 0.0, 0.0, 0.0, 0.0, 0.0, 0.0, 0.0, 0.0, 0.0, 0.0, 0.0, 0.0, 0.0, 0.0, 0.0, 0.0, 0.0, 0.0, 0.0, 0.0, 0.0, 0.0, 0.0, 0.0, 0.0, 0.0, 0.0, 0.0, 0.0, 0.0, 0.0, 0.0, 0.0, 0.0, 0.0, 0.0, 0.0, 0.0, 0.0, 0.0, 0.0, 0.0, 0.0, 0.0, 0.0, 0.0, 0.0, 0.0, 0.0, 0.0, 0.0, 0.0, 0.0, 0.0, 0.0, 0.0, 0.0, 0.0, 0.0, 0.0, 0.0, 0.0, 0.0, 0.0, 0.0, 0.0, 0.0, 0.0, 0.0, 0.0, 0.0, 0.0, 0.0, 0.0, 0.0, 0.0, 0.0, 0.0, 0.0, 0.0, 0.0, 0.0, 0.0, 0.0, 0.0, 0.0, 0.0, 0.0, 0.0, 0.0, 0.0, 0.0, 0.0, 0.0, 0.0, 0.0, 0.0, 0.0, 0.0, 0.0, 0.0, 0.0, 0.0, 0.0, 0.0]\n",
            "\n",
            "📌 Prediction for Record 3:\n",
            "  - prediction: 1.3: Implement nationally appropriate social protection systems and measures for all, including floors, and by 2030 achieve substantial coverage of the poor and the vulnerable\n",
            "  - probability: [0.0, 1.0, 0.0, 0.0, 0.0, 0.0, 0.0, 0.0, 0.0, 0.0, 0.0, 0.0, 0.0, 0.0, 0.0, 0.0, 0.0, 0.0, 0.0, 0.0, 0.0, 0.0, 0.0, 0.0, 0.0, 0.0, 0.0, 0.0, 0.0, 0.0, 0.0, 0.0, 0.0, 0.0, 0.0, 0.0, 0.0, 0.0, 0.0, 0.0, 0.0, 0.0, 0.0, 0.0, 0.0, 0.0, 0.0, 0.0, 0.0, 0.0, 0.0, 0.0, 0.0, 0.0, 0.0, 0.0, 0.0, 0.0, 0.0, 0.0, 0.0, 0.0, 0.0, 0.0, 0.0, 0.0, 0.0, 0.0, 0.0, 0.0, 0.0, 0.0, 0.0, 0.0, 0.0, 0.0, 0.0, 0.0, 0.0, 0.0, 0.0, 0.0, 0.0, 0.0, 0.0, 0.0, 0.0, 0.0, 0.0, 0.0, 0.0, 0.0, 0.0, 0.0, 0.0, 0.0, 0.0, 0.0, 0.0, 0.0, 0.0, 0.0, 0.0, 0.0, 0.0, 0.0, 0.0, 0.0, 0.0, 0.0, 0.0, 0.0, 0.0, 0.0, 0.0, 0.0, 0.0, 0.0]\n"
          ]
        }
      ]
    },
    {
      "cell_type": "code",
      "source": [],
      "metadata": {
        "id": "MexrugAQMqTO"
      },
      "execution_count": null,
      "outputs": []
    }
  ]
}